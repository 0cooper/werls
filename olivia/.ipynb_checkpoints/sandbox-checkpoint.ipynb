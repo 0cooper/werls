{
 "cells": [
  {
   "cell_type": "markdown",
   "id": "7882a99e",
   "metadata": {},
   "source": [
    "# Sandbox\n",
    "### Olivia Cooper\n",
    "### June 2022"
   ]
  },
  {
   "cell_type": "code",
   "execution_count": 1,
   "id": "cb9c665c",
   "metadata": {},
   "outputs": [],
   "source": [
    "# the basics\n",
    "\n",
    "import numpy as np\n",
    "import matplotlib.pyplot as plt\n",
    "from matplotlib.ticker import AutoMinorLocator\n",
    "%matplotlib inline\n",
    "import pandas as pd\n",
    "import astropy\n",
    "from astropy import units as u\n",
    "from astropy.io import fits\n",
    "from astropy.table import Table\n",
    "from astropy.visualization import ZScaleInterval\n",
    "from astropy.stats import sigma_clip\n",
    "from scipy.optimize import curve_fit\n",
    "plt.style.use('../cooper-paper.mplstyle')"
   ]
  },
  {
   "cell_type": "code",
   "execution_count": 2,
   "id": "e22b3f57",
   "metadata": {},
   "outputs": [
    {
     "data": {
      "text/html": [
       "<i>Table length=31</i>\n",
       "<table id=\"table140303334419136\" class=\"table-striped table-bordered table-condensed\">\n",
       "<thead><tr><th>note</th><th>line1</th><th>line2</th><th>line3</th><th>line4</th></tr></thead>\n",
       "<thead><tr><th>str44</th><th>float64</th><th>float64</th><th>float64</th><th>float64</th></tr></thead>\n",
       "<tr><td>l@10580.2?</td><td>10580.2</td><td>--</td><td>--</td><td>--</td></tr>\n",
       "<tr><td>l@9837.9?</td><td>9837.9</td><td>--</td><td>--</td><td>--</td></tr>\n",
       "<tr><td>star</td><td>--</td><td>--</td><td>--</td><td>--</td></tr>\n",
       "<tr><td>serendip1@10944.5!</td><td>10944.5</td><td>--</td><td>--</td><td>--</td></tr>\n",
       "<tr><td>bc,l@10936.4</td><td>10936.4</td><td>--</td><td>--</td><td>--</td></tr>\n",
       "<tr><td>nc,nl</td><td>--</td><td>--</td><td>--</td><td>--</td></tr>\n",
       "<tr><td>bc,l@10770.3?,l@10217.5?,l@9838.507,l@9847.7</td><td>10770.3</td><td>10217.5</td><td>9838.5</td><td>9847.7</td></tr>\n",
       "<tr><td>l@10675.2?</td><td>10675.2</td><td>--</td><td>--</td><td>--</td></tr>\n",
       "<tr><td>l@9786.3?</td><td>9786.3</td><td>--</td><td>--</td><td>--</td></tr>\n",
       "<tr><td>nl,nc</td><td>--</td><td>--</td><td>--</td><td>--</td></tr>\n",
       "<tr><td>l@9870.0?,l@10031.8?</td><td>9870.0</td><td>10031.8</td><td>--</td><td>--</td></tr>\n",
       "<tr><td>nl,nc</td><td>--</td><td>--</td><td>--</td><td>--</td></tr>\n",
       "<tr><td>nl,nc</td><td>--</td><td>--</td><td>--</td><td>--</td></tr>\n",
       "<tr><td>nl,nc</td><td>--</td><td>--</td><td>--</td><td>--</td></tr>\n",
       "<tr><td>fc,l@11067.3,l@11078.1</td><td>11067.3</td><td>11078.1</td><td>--</td><td>--</td></tr>\n",
       "<tr><td>fc</td><td>--</td><td>--</td><td>--</td><td>--</td></tr>\n",
       "<tr><td>serendip1@10825.6</td><td>10825.6</td><td>--</td><td>--</td><td>--</td></tr>\n",
       "<tr><td>l@11098.2?</td><td>11098.2</td><td>--</td><td>--</td><td>--</td></tr>\n",
       "<tr><td>nl,nc</td><td>--</td><td>--</td><td>--</td><td>--</td></tr>\n",
       "<tr><td>star</td><td>--</td><td>--</td><td>--</td><td>--</td></tr>\n",
       "<tr><td>nl,nc</td><td>--</td><td>--</td><td>--</td><td>--</td></tr>\n",
       "<tr><td>nl,nc</td><td>--</td><td>--</td><td>--</td><td>--</td></tr>\n",
       "<tr><td>nl,nc</td><td>--</td><td>--</td><td>--</td><td>--</td></tr>\n",
       "<tr><td>l@10269.1</td><td>10269.1</td><td>--</td><td>--</td><td>--</td></tr>\n",
       "<tr><td>fc,l@10944.0</td><td>10944.0</td><td>--</td><td>--</td><td>--</td></tr>\n",
       "<tr><td>fc,l@9937.3</td><td>9937.3</td><td>--</td><td>--</td><td>--</td></tr>\n",
       "<tr><td>nl,nc</td><td>--</td><td>--</td><td>--</td><td>--</td></tr>\n",
       "<tr><td>nl,nc</td><td>--</td><td>--</td><td>--</td><td>--</td></tr>\n",
       "<tr><td>nl,nc</td><td>--</td><td>--</td><td>--</td><td>--</td></tr>\n",
       "<tr><td>nl,nc</td><td>--</td><td>--</td><td>--</td><td>--</td></tr>\n",
       "<tr><td>l@10504.7?</td><td>10504.7</td><td>--</td><td>--</td><td>--</td></tr>\n",
       "</table>"
      ],
      "text/plain": [
       "<Table length=31>\n",
       "                    note                      line1   line2   line3   line4 \n",
       "                   str44                     float64 float64 float64 float64\n",
       "-------------------------------------------- ------- ------- ------- -------\n",
       "                                  l@10580.2? 10580.2      --      --      --\n",
       "                                   l@9837.9?  9837.9      --      --      --\n",
       "                                        star      --      --      --      --\n",
       "                          serendip1@10944.5! 10944.5      --      --      --\n",
       "                                bc,l@10936.4 10936.4      --      --      --\n",
       "                                       nc,nl      --      --      --      --\n",
       "bc,l@10770.3?,l@10217.5?,l@9838.507,l@9847.7 10770.3 10217.5  9838.5  9847.7\n",
       "                                  l@10675.2? 10675.2      --      --      --\n",
       "                                   l@9786.3?  9786.3      --      --      --\n",
       "                                       nl,nc      --      --      --      --\n",
       "                        l@9870.0?,l@10031.8?  9870.0 10031.8      --      --\n",
       "                                       nl,nc      --      --      --      --\n",
       "                                       nl,nc      --      --      --      --\n",
       "                                       nl,nc      --      --      --      --\n",
       "                      fc,l@11067.3,l@11078.1 11067.3 11078.1      --      --\n",
       "                                          fc      --      --      --      --\n",
       "                           serendip1@10825.6 10825.6      --      --      --\n",
       "                                  l@11098.2? 11098.2      --      --      --\n",
       "                                       nl,nc      --      --      --      --\n",
       "                                        star      --      --      --      --\n",
       "                                       nl,nc      --      --      --      --\n",
       "                                       nl,nc      --      --      --      --\n",
       "                                       nl,nc      --      --      --      --\n",
       "                                   l@10269.1 10269.1      --      --      --\n",
       "                                fc,l@10944.0 10944.0      --      --      --\n",
       "                                 fc,l@9937.3  9937.3      --      --      --\n",
       "                                       nl,nc      --      --      --      --\n",
       "                                       nl,nc      --      --      --      --\n",
       "                                       nl,nc      --      --      --      --\n",
       "                                       nl,nc      --      --      --      --\n",
       "                                  l@10504.7? 10504.7      --      --      --"
      ]
     },
     "execution_count": 2,
     "metadata": {},
     "output_type": "execute_result"
    }
   ],
   "source": [
    "note = Table.read('../wmmc01/detnotes.txt',format='ascii')\n",
    "mask = Table.read('../wmmc01/wmmc01_SlitList.txt',format='ascii')\n",
    "note"
   ]
  },
  {
   "cell_type": "code",
   "execution_count": null,
   "id": "54de7abe",
   "metadata": {},
   "outputs": [],
   "source": []
  }
 ],
 "metadata": {
  "kernelspec": {
   "display_name": "Python 3 (ipykernel)",
   "language": "python",
   "name": "python3"
  },
  "language_info": {
   "codemirror_mode": {
    "name": "ipython",
    "version": 3
   },
   "file_extension": ".py",
   "mimetype": "text/x-python",
   "name": "python",
   "nbconvert_exporter": "python",
   "pygments_lexer": "ipython3",
   "version": "3.8.3"
  }
 },
 "nbformat": 4,
 "nbformat_minor": 5
}
